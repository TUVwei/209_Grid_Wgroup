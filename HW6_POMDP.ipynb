{
 "cells": [
  {
   "cell_type": "code",
   "execution_count": 1,
   "metadata": {},
   "outputs": [],
   "source": [
    "import copy\n",
    "import numpy as np\n",
    "import matplotlib.pyplot as plt\n",
    "from matplotlib.patches import Rectangle, Circle"
   ]
  },
  {
   "cell_type": "code",
   "execution_count": 2,
   "metadata": {},
   "outputs": [],
   "source": [
    "my_map = [[0]*5 for _ in range(5)]\n",
    "my_map[2][0] = 'Rs'\n",
    "my_map[2][2] = 'Rd'\n",
    "my_map[1][1] = -1\n",
    "my_map[2][1] = -1\n",
    "my_map[1][3] = -1\n",
    "my_map[2][3] = -1\n",
    "my_map[4][0] = 'Rw'\n",
    "my_map[4][1] = 'Rw'\n",
    "my_map[4][2] = 'Rw'\n",
    "my_map[4][3] = 'Rw'\n",
    "my_map[4][4] = 'Rw'"
   ]
  },
  {
   "cell_type": "code",
   "execution_count": 3,
   "metadata": {},
   "outputs": [],
   "source": [
    "# this function plots a map with various ways\n",
    "# given my_map, it plots the map: plot_map(my_map)\n",
    "# given my_map, positions (trajectory)， it will plot it on the map: plot_map(my_map, [[0,0], [0,1], [0,2], [1,2]] )\n",
    "# given my_map, positions, observations, it will plot the trajectory with the oservation: plot_map(my_map, [[0,0], [0,1], [0,2], [1,2]], [1,2,3,4])\n",
    "# given my_map, values (same size with map), it will plot the values. This can be used to show action/value\n",
    "def plot_map(my_map, positions=[], observations=[], values=[]):\n",
    "    # draw the grid frame\n",
    "    n = len(my_map)\n",
    "    m = len(my_map[0])\n",
    "    fig,ax = plt.subplots(figsize=(6, 6))\n",
    "    \n",
    "    # draw the whole grid\n",
    "    for x,row in enumerate(my_map):\n",
    "        for y,element in enumerate(row):\n",
    "            if type(element)==type(0) and element == -1:\n",
    "                ax.add_patch(Rectangle((x,y),1,1,color='lightgray'))\n",
    "                ax.text(x+0.4,y+0.4,str('X'),c='black',size='xx-large')\n",
    "            elif type(element)==type('str'):\n",
    "                if element == 'Rw':\n",
    "                    ax.add_patch(Rectangle((x,y),1,1,color='red'))\n",
    "                    if len(values) == 0:\n",
    "                        ax.text(x+0.35,y+0.4,element,c='black',size='xx-large')\n",
    "                else:\n",
    "                    ax.add_patch(Rectangle((x,y),1,1,color='lime'))\n",
    "                    if len(values) == 0:\n",
    "                        ax.text(x+0.35,y+0.4,element,c='black',size='xx-large')                   \n",
    "    \n",
    "    # if need rewards\n",
    "    if len(values) > 0:\n",
    "        for x,row in enumerate(my_map):\n",
    "            for y,element in enumerate(row):\n",
    "                if type(element)==type(0) and element == -1:\n",
    "                    pass\n",
    "                else:\n",
    "                    ax.text(x+0.15,y+0.4,'{:.2f}'.format(values[x][y]),c='black',size='xx-large')\n",
    "    else:\n",
    "        # draw arrows of start\n",
    "        if len(positions) > 0:\n",
    "            ax.add_patch(Circle((positions[0][0]+0.5, positions[0][1]+0.5), 0.05, color='blue'))\n",
    "            ax.text(positions[0][0]+0.05, positions[0][1]+0.2,'0',c='black',size='small') \n",
    "            if len(observations) > 0:\n",
    "                ax.text(positions[0][0]+0.05, positions[0][1]+0.7, str(observations[0]),c='gray',size='small') \n",
    "\n",
    "        # draw all the movements\n",
    "        max_num = len(positions)\n",
    "        for num, pos in enumerate(positions[1:]):\n",
    "            ax.add_patch(Circle((pos[0]+0.5, pos[1]+0.5), 0.05+0.15*(num+1)/max_num, color='blue'))\n",
    "            ax.text(pos[0]+0.05+0.9*(num+1)/max_num, pos[1]+0.2, str(num+1), c='black', size='small') \n",
    "            if len(observations) == max_num:\n",
    "                ax.text(pos[0]+0.05+0.9*(num+1)/max_num, pos[1]+0.7, str(observations[num+1]),c='gray',size='small') \n",
    "    \n",
    "    # some configs\n",
    "    plt.xticks(np.arange(n+1))\n",
    "    plt.yticks(np.arange(m+1))\n",
    "\n",
    "    ax.set_xticklabels([str(x) for x in np.arange(n+1)])\n",
    "    ax.set_yticklabels([str(y) for y in np.arange(m+1)])\n",
    "    \n",
    "    plt.grid()\n",
    "    plt.show()"
   ]
  },
  {
   "cell_type": "code",
   "execution_count": 4,
   "metadata": {},
   "outputs": [],
   "source": [
    "moves_map = {0:[0,0], 1:[-1,0], 2:[0,1], 3:[1,0], 4:[0,-1]}\n",
    "# this function receive a position and action and return next position with correct randomness\n",
    "def move_one_step(my_map, pos, move, pe, n, m):\n",
    "    # if already stop/ never\n",
    "    #if type(my_map[pos[0]][pos[1]]) == type('str'):\n",
    "    #    return pos\n",
    "    \n",
    "    # else choose the random action\n",
    "    actions = [(1-pe)/(len(moves_map)-1)] * len(moves_map)\n",
    "    actions[move] = pe\n",
    "    action = np.argmax(np.random.multinomial(1, actions))\n",
    "    movement = moves_map[action]\n",
    "    # next pois\n",
    "    next_pos =[pos[0]+movement[0], pos[1]+movement[1]]\n",
    "    \n",
    "    # if not valid: out the map\n",
    "    if next_pos[0] < 0 or next_pos[0] >= n:\n",
    "        return pos\n",
    "    if next_pos[1] < 0 or next_pos[1] >= m:\n",
    "        return pos\n",
    "    \n",
    "    # else if target is obstacle\n",
    "    if type(my_map[next_pos[0]][next_pos[1]]) == type(0) and my_map[next_pos[0]][next_pos[1]] == -1:\n",
    "        return pos\n",
    "    \n",
    "    return next_pos\n",
    "\n",
    "\n",
    "# given a set of moves: [0,1,1,0,1], it will move with randomness\n",
    "def move(my_map, start, moves, pe):\n",
    "    n = len(my_map)\n",
    "    m = len(my_map[0])\n",
    "    \n",
    "    # find Rs, Rd\n",
    "    for i in range(n):\n",
    "        for j in range(m):\n",
    "            if my_map[i][j] == 'Rs':\n",
    "                rs_pos = [i,j]\n",
    "            if my_map[i][j] == 'Rd':\n",
    "                rd_pos = [i,j]\n",
    "    \n",
    "    # start and obs\n",
    "    positions = [start]\n",
    "    pos = start\n",
    "    d_s = ((rs_pos[0]-pos[0])**2+(rs_pos[1]-pos[1])**2)**0.5\n",
    "    d_d = ((rd_pos[0]-pos[0])**2+(rd_pos[1]-pos[1])**2)**0.5\n",
    "    h = 2/((d_s+0.001)**(-1)+(d_d+0.0001)**(-1))\n",
    "    p = 1-(np.ceil(h) - h)\n",
    "    if np.random.rand() <= p:\n",
    "        o = np.ceil(h)\n",
    "    else:\n",
    "        o = np.floor(h)\n",
    "    observations = [int(o)]\n",
    "    \n",
    "    # move\n",
    "    for move in moves:\n",
    "        pos = move_one_step(my_map, pos, move, pe, n, m)\n",
    "        positions.append(pos)\n",
    "        \n",
    "        d_s = ((rs_pos[0]-pos[0])**2+(rs_pos[1]-pos[1])**2)**0.5\n",
    "        d_d = ((rd_pos[0]-pos[0])**2+(rd_pos[1]-pos[1])**2)**0.5\n",
    "        h = 2/((d_s+0.001)**(-1)+(d_d+0.0001)**(-1))\n",
    "        p = 1-(np.ceil(h) - h)\n",
    "        if np.random.rand() <= p:\n",
    "            o = np.ceil(h)\n",
    "        else:\n",
    "            o = np.floor(h)\n",
    "        observations.append(int(o))\n",
    "    \n",
    "    return positions, observations, [p, h]"
   ]
  },
  {
   "cell_type": "code",
   "execution_count": 8,
   "metadata": {},
   "outputs": [],
   "source": [
    "pe=0.9"
   ]
  },
  {
   "cell_type": "code",
   "execution_count": 9,
   "metadata": {},
   "outputs": [],
   "source": [
    "n = len(my_map)\n",
    "m = len(my_map[0])\n",
    "p_o = np.zeros([n*m, 5])\n",
    "p_s = [np.zeros([n*m,n*m]) for i in range(len(moves_map))]"
   ]
  },
  {
   "cell_type": "code",
   "execution_count": 10,
   "metadata": {},
   "outputs": [],
   "source": [
    "for s in range(n*m):\n",
    "    i = int(s/m)\n",
    "    j = s%m\n",
    "    if type(my_map[i][j]) == type(-1) and  my_map[i][j] == -1:\n",
    "        pass\n",
    "    else:\n",
    "        _,_, t = move(my_map, [i,j], [], pe)\n",
    "        p_o[s, int(np.ceil(t[1]))] = t[0]\n",
    "        p_o[s, int(np.floor(t[1]))] = 1-t[0]"
   ]
  },
  {
   "cell_type": "code",
   "execution_count": 11,
   "metadata": {},
   "outputs": [],
   "source": [
    "for action, p_state in enumerate(p_s):\n",
    "    for s in range(n*m):\n",
    "        i = int(s/m)\n",
    "        j = s%m\n",
    "        if type(my_map[i][j]) == type(-1) and  my_map[i][j] == -1:\n",
    "            pass\n",
    "        else:\n",
    "            action_prob = [(1-pe)/4]*5\n",
    "            action_prob[action] = pe\n",
    "            next_states = [[i,j], [i-1, j], [i,j+1],[i+1,j],[i,j-1]]\n",
    "            \n",
    "            # next state\n",
    "            for a,next_s in enumerate(next_states):\n",
    "                if next_s[0]== -1 or next_s[0]==n or next_s[1]== -1 or next_s[1]==m:\n",
    "                    action_prob[0] = action_prob[0] + action_prob[a]\n",
    "                    action_prob[a] = 0\n",
    "                else:\n",
    "                    if type(my_map[next_s[0]][next_s[1]]) == type(-1) and  my_map[next_s[0]][next_s[1]] == -1:\n",
    "                        action_prob[0] = action_prob[0] + action_prob[a]\n",
    "                        action_prob[a] = 0\n",
    "                        \n",
    "                               \n",
    "            \n",
    "            for a,next_s in enumerate(next_states):\n",
    "                if action_prob[a] == 0:\n",
    "                    pass\n",
    "                else:\n",
    "                    p_state[i*n+j, next_s[0]*n + next_s[1]] = action_prob[a]"
   ]
  },
  {
   "cell_type": "code",
   "execution_count": 19,
   "metadata": {},
   "outputs": [
    {
     "data": {
      "image/png": "[encoded data removed]",
      "text/plain": [
       "<Figure size 432x432 with 1 Axes>"
      ]
     },
     "metadata": {
      "needs_background": "light"
     },
     "output_type": "display_data"
    }
   ],
   "source": [
    "start = [2,4]\n",
    "moves = [3,4,4,1,0]\n",
    "p, o,_ = move(my_map, start, moves, pe=0.9)\n",
    "plot_map(my_map, p, o)"
   ]
  },
  {
   "cell_type": "code",
   "execution_count": 75,
   "metadata": {},
   "outputs": [
    {
     "data": {
      "text/plain": [
       "[3, 4, 4, 1, 0]"
      ]
     },
     "execution_count": 75,
     "metadata": {},
     "output_type": "execute_result"
    }
   ],
   "source": [
    "moves"
   ]
  },
  {
   "cell_type": "code",
   "execution_count": 74,
   "metadata": {},
   "outputs": [
    {
     "data": {
      "text/plain": [
       "[2, 3, 2, 2, 0, 0]"
      ]
     },
     "execution_count": 74,
     "metadata": {},
     "output_type": "execute_result"
    }
   ],
   "source": [
    "o"
   ]
  },
  {
   "cell_type": "code",
   "execution_count": 70,
   "metadata": {},
   "outputs": [],
   "source": [
    "s0 = np.zeros([n*m, 1])\n",
    "s0[start[0] * n + start[1]] = 1"
   ]
  },
  {
   "cell_type": "code",
   "execution_count": 71,
   "metadata": {},
   "outputs": [],
   "source": [
    "i = 0\n",
    "s0 = p_o[:, [o[i]]] * s0 / (p_o[:, [o[i]]] * s0).sum()\n",
    "for i in range(len(moves)):\n",
    "    s0 = p_s[moves[i]].T.dot(s0)\n",
    "    s0 = p_o[:, [o[i+1]]] * s0 / (p_o[:, [o[i+1]]] * s0).sum()"
   ]
  },
  {
   "cell_type": "code",
   "execution_count": 72,
   "metadata": {},
   "outputs": [
    {
     "data": {
      "text/plain": [
       "array([[0.],\n",
       "       [0.],\n",
       "       [0.],\n",
       "       [0.],\n",
       "       [0.],\n",
       "       [0.],\n",
       "       [0.],\n",
       "       [0.],\n",
       "       [0.],\n",
       "       [0.],\n",
       "       [0.],\n",
       "       [0.],\n",
       "       [1.],\n",
       "       [0.],\n",
       "       [0.],\n",
       "       [0.],\n",
       "       [0.],\n",
       "       [0.],\n",
       "       [0.],\n",
       "       [0.],\n",
       "       [0.],\n",
       "       [0.],\n",
       "       [0.],\n",
       "       [0.],\n",
       "       [0.]])"
      ]
     },
     "execution_count": 72,
     "metadata": {},
     "output_type": "execute_result"
    }
   ],
   "source": [
    "s0"
   ]
  },
  {
   "cell_type": "code",
   "execution_count": 73,
   "metadata": {},
   "outputs": [
    {
     "data": {
      "text/plain": [
       "12"
      ]
     },
     "execution_count": 73,
     "metadata": {},
     "output_type": "execute_result"
    }
   ],
   "source": [
    "np.argmax(s0)"
   ]
  },
  {
   "cell_type": "code",
   "execution_count": null,
   "metadata": {},
   "outputs": [],
   "source": []
  }
 ],
 "metadata": {
  "kernelspec": {
   "display_name": "Python 3",
   "language": "python",
   "name": "python3"
  },
  "language_info": {
   "codemirror_mode": {
    "name": "ipython",
    "version": 3
   },
   "file_extension": ".py",
   "mimetype": "text/x-python",
   "name": "python",
   "nbconvert_exporter": "python",
   "pygments_lexer": "ipython3",
   "version": "3.7.6"
  }
 },
 "nbformat": 4,
 "nbformat_minor": 4
}
