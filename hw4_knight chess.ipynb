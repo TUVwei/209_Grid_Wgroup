{
 "cells": [
  {
   "cell_type": "code",
   "execution_count": 1,
   "metadata": {},
   "outputs": [],
   "source": [
    "import os\n",
    "import numpy as np\n",
    "import matplotlib.pyplot as plt"
   ]
  },
  {
   "cell_type": "code",
   "execution_count": 2,
   "metadata": {},
   "outputs": [],
   "source": [
    "actions = [[-2,-1],[-2,1],[2,-1],[2,1],[1,2],[1,-2],[-1,2],[-1,-2]]"
   ]
  },
  {
   "cell_type": "code",
   "execution_count": 3,
   "metadata": {},
   "outputs": [],
   "source": [
    "adj = np.zeros([64,64])\n",
    "for s in range(64):\n",
    "    for a in actions:\n",
    "        i = int(s/8)\n",
    "        j = s%8\n",
    "        x = i + a[0]\n",
    "        y = j + a[1]\n",
    "        if 0<=x<8 and 0<=y<8:\n",
    "            adj[s,8*x+y] = 1\n",
    "            "
   ]
  },
  {
   "cell_type": "code",
   "execution_count": 38,
   "metadata": {},
   "outputs": [],
   "source": [
    "def bfs(mat_o, ini_node,end_node):\n",
    "    #\n",
    "    ini_node = ini_node[0] * 8 + ini_node[1]\n",
    "    end_node = end_node[0] * 8 + end_node[1]\n",
    "    # init\n",
    "    mat=mat_o.copy()\n",
    "    bfs = []\n",
    "    tmp1_node = [ini_node]\n",
    "    tmp2_node = []\n",
    "    # begin\n",
    "    while len(tmp1_node) + len(tmp2_node) > 0:\n",
    "        # for each parent\n",
    "        for parent_node in tmp1_node:\n",
    "            tmp = [parent_node, []]\n",
    "            # for each child, row\n",
    "            for child_node, child_weight in enumerate(mat[parent_node, :]):\n",
    "                if child_weight > 0:\n",
    "                    # add current node info\n",
    "                    tmp[1].append(child_node)\n",
    "                    # add children to tmp2\n",
    "                    tmp2_node.append(child_node)\n",
    "                    # remove this edge\n",
    "                    mat[parent_node, child_node] = 0\n",
    "            # for each child, col\n",
    "            for child_node, child_weight in enumerate(mat[:, parent_node]):\n",
    "                if child_weight > 0:\n",
    "                    # add current node info\n",
    "                   # tmp[1].append(child_node)\n",
    "                    #add child node\n",
    "                   # tmp2_node.append(child_node)\n",
    "                    # remove this edge\n",
    "                    mat[child_node, parent_node] = 0\n",
    "            # bfs add\n",
    "            bfs.append(tmp.copy())\n",
    "        # to next level\n",
    "        tmp1_node = tmp2_node.copy()\n",
    "        tmp2_node = []\n",
    "    keys=[]\n",
    "    values=[]\n",
    "    for i in range(len(bfs)):\n",
    "        keys.append(bfs[i][0])\n",
    "        values.append(bfs[i][1])\n",
    "    bfs_dict=dict(zip(keys, values))        \n",
    "    queue = []\n",
    "    # push the first path into the queue\n",
    "    queue.append([ini_node])\n",
    "    while queue:\n",
    "        # get the first path from the queue\n",
    "        path = queue.pop(0)\n",
    "        # get the last node from the path\n",
    "        node = path[-1]\n",
    "        # path found\n",
    "        if node == end_node:\n",
    "            break\n",
    "        # enumerate all adjacent nodes, construct a \n",
    "        # new path and push it into the queue\n",
    "        for adjacent in bfs_dict[node]:\n",
    "            new_path = list(path)\n",
    "            new_path.append(adjacent)\n",
    "            queue.append(new_path)\n",
    "    return bfs,[[int(x/8), x%8] for x in path]"
   ]
  },
  {
   "cell_type": "code",
   "execution_count": 39,
   "metadata": {},
   "outputs": [],
   "source": [
    "_,path = bfs(adj,[0,1],[1,2])"
   ]
  },
  {
   "cell_type": "code",
   "execution_count": 40,
   "metadata": {},
   "outputs": [
    {
     "data": {
      "text/plain": [
       "[[0, 1], [2, 0], [1, 2]]"
      ]
     },
     "execution_count": 40,
     "metadata": {},
     "output_type": "execute_result"
    }
   ],
   "source": [
    "path   "
   ]
  },
  {
   "cell_type": "code",
   "execution_count": 44,
   "metadata": {},
   "outputs": [],
   "source": [
    "def dfs(adj, ini_node, end_node, queue=[]):\n",
    "    #\n",
    "    if len(queue) == 0:\n",
    "        ini_node = ini_node[0] * 8 + ini_node[1]\n",
    "        end_node = end_node[0] * 8 + end_node[1]\n",
    "        A = adj.copy()\n",
    "    else:\n",
    "        A = adj\n",
    "    if len(queue) > 0 and queue[-1] == end_node:\n",
    "        return True\n",
    "    #\n",
    "    for node in np.where(adj[ini_node, ])[0]:\n",
    "        queue.append(node)\n",
    "        A[ini_node, node] = 0\n",
    "        A[node, ini_node] = 0\n",
    "        if dfs(A, node, end_node, queue):\n",
    "            return True\n",
    "        else:\n",
    "            queue.pop()\n",
    "    return False"
   ]
  },
  {
   "cell_type": "code",
   "execution_count": 46,
   "metadata": {},
   "outputs": [
    {
     "data": {
      "text/plain": [
       "[[1, 3], [0, 5], [1, 7], [2, 5], [0, 4], [1, 2]]"
      ]
     },
     "execution_count": 46,
     "metadata": {},
     "output_type": "execute_result"
    }
   ],
   "source": [
    "queue = []\n",
    "dfs(adj, [0, 1], [1, 2], queue)\n",
    "[[int(x/8), x%8] for x in queue]"
   ]
  },
  {
   "cell_type": "code",
   "execution_count": null,
   "metadata": {},
   "outputs": [],
   "source": [
    "def rrt(adj, ini_node, end_node):\n",
    "    ini_node = ini_node[0] * 8 + ini_node[1]\n",
    "    end_node = end_node[0] * 8 + end_node[1]\n",
    "    map = {ini_node: []}\n",
    "    while True:\n",
    "        random = np.random.randint(0, 64, 1)\n",
    "        while random not in list(ap.keys()):\n",
    "            random = np.random.randint(0, 64, 1)\n",
    "        pos = 0\n",
    "        val = 100\n",
    "        for x in map.keys():\n",
    "            x1 = int(x%/88)\n",
    "            x2 = x%8\n",
    "            y1 = int(random/8)\n",
    "            y2 = random%8\n",
    "            t = abs(x1-x2) + abs(y1-y2)\n",
    "            if val > t:\n",
    "                val = t\n",
    "                pos = x\n",
    "        \n",
    "        pos -> randpm\n",
    "        map[x].append(next)\n",
    "        map[next] = []"
   ]
  }
 ],
 "metadata": {
  "kernelspec": {
   "display_name": "Python 3",
   "language": "python",
   "name": "python3"
  },
  "language_info": {
   "codemirror_mode": {
    "name": "ipython",
    "version": 3
   },
   "file_extension": ".py",
   "mimetype": "text/x-python",
   "name": "python",
   "nbconvert_exporter": "python",
   "pygments_lexer": "ipython3",
   "version": "3.7.6"
  }
 },
 "nbformat": 4,
 "nbformat_minor": 5
}
