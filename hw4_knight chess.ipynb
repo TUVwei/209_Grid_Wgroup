{
 "cells": [
  {
   "cell_type": "code",
   "execution_count": 16,
   "id": "d2e3e8ec",
   "metadata": {},
   "outputs": [],
   "source": [
    "import os\n",
    "import numpy as np\n",
    "import matplotlib.pyplot as plt"
   ]
  },
  {
   "cell_type": "code",
   "execution_count": 17,
   "id": "cf46aa20",
   "metadata": {},
   "outputs": [],
   "source": [
    "actions = [[-2,-1],[-2,1],[2,-1],[2,1],[1,2],[1,-2],[-1,2],[-1,-2]]"
   ]
  },
  {
   "cell_type": "code",
   "execution_count": 18,
   "id": "a8bc66d9",
   "metadata": {},
   "outputs": [],
   "source": [
    "adj = np.zeros([64,64])\n",
    "for s in range(64):\n",
    "    for a in actions:\n",
    "        i = int(s/8)\n",
    "        j = s%8\n",
    "        x = i + a[0]\n",
    "        y = j + a[1]\n",
    "        if 0<=x<8 and 0<=y<8:\n",
    "            adj[s,8*x+y] = 1"
   ]
  },
  {
   "cell_type": "code",
   "execution_count": 19,
   "id": "6216920a",
   "metadata": {},
   "outputs": [],
   "source": [
    "def bfs(mat_o, ini_node,end_node):\n",
    "    ini_node = ini_node[0] * 8 + ini_node[1]\n",
    "    end_node = end_node[0] * 8 + end_node[1]\n",
    "        \n",
    "    # init\n",
    "    mat=mat_o.copy()\n",
    "    bfs = []\n",
    "    tmp1_node = [ini_node]\n",
    "    tmp2_node = []\n",
    "    # begin\n",
    "    while len(tmp1_node) + len(tmp2_node) > 0:\n",
    "        # for each parent\n",
    "        for parent_node in tmp1_node:\n",
    "            tmp = [parent_node, []]\n",
    "            # for each child, row\n",
    "            for child_node, child_weight in enumerate(mat[parent_node, :]):\n",
    "                if child_weight > 0:\n",
    "                    # add current node info\n",
    "                    tmp[1].append(child_node)\n",
    "                    # add children to tmp2\n",
    "                    tmp2_node.append(child_node)\n",
    "                    # remove this edge\n",
    "                    mat[parent_node, child_node] = 0\n",
    "            # for each child, col\n",
    "            for child_node, child_weight in enumerate(mat[:, parent_node]):\n",
    "                if child_weight > 0:\n",
    "                    # add current node info\n",
    "                   # tmp[1].append(child_node)\n",
    "                    #add child node\n",
    "                   # tmp2_node.append(child_node)\n",
    "                    # remove this edge\n",
    "                    mat[child_node, parent_node] = 0\n",
    "            # bfs add\n",
    "            bfs.append(tmp.copy())\n",
    "        # to next level\n",
    "        tmp1_node = tmp2_node.copy()\n",
    "        tmp2_node = []\n",
    "    keys=[]\n",
    "    values=[]\n",
    "    for i in range(len(bfs)):\n",
    "        keys.append(bfs[i][0])\n",
    "        values.append(bfs[i][1])\n",
    "    bfs_dict=dict(zip(keys, values))        \n",
    "    queue = []\n",
    "    # push the first path into the queue\n",
    "    queue.append([ini_node])\n",
    "    while queue:\n",
    "        # get the first path from the queue\n",
    "        path = queue.pop(0)\n",
    "        # get the last node from the path\n",
    "        node = path[-1]\n",
    "        # path found\n",
    "        if node == end_node:\n",
    "            break\n",
    "        # enumerate all adjacent nodes, construct a \n",
    "        # new path and push it into the queue\n",
    "        for adjacent in bfs_dict[node]:\n",
    "            new_path = list(path)\n",
    "            new_path.append(adjacent)\n",
    "            queue.append(new_path)\n",
    "    return bfs,[[int(x/8), int(x%8)] for x in path]"
   ]
  },
  {
   "cell_type": "code",
   "execution_count": 20,
   "id": "f7386178",
   "metadata": {},
   "outputs": [],
   "source": [
    "_,path = bfs(adj,[0,1],[1,2])"
   ]
  },
  {
   "cell_type": "code",
   "execution_count": 21,
   "id": "f1f7d2d6",
   "metadata": {},
   "outputs": [
    {
     "data": {
      "text/plain": [
       "[[0, 1], [2, 0], [1, 2]]"
      ]
     },
     "execution_count": 21,
     "metadata": {},
     "output_type": "execute_result"
    }
   ],
   "source": [
    "path   "
   ]
  },
  {
   "cell_type": "code",
   "execution_count": 22,
   "id": "a841694d",
   "metadata": {},
   "outputs": [],
   "source": [
    "def dfs(adj, ini_node, end_node, queue=[]):\n",
    "    #\n",
    "    if len(queue) == 0:\n",
    "        ini_node = ini_node[0] * 8 + ini_node[1]\n",
    "        end_node = end_node[0] * 8 + end_node[1]\n",
    "        A = adj.copy()\n",
    "    else:\n",
    "        A = adj\n",
    "    if len(queue) > 0 and queue[-1] == end_node:\n",
    "        return True\n",
    "    #\n",
    "    for node in np.where(adj[ini_node, ])[0]:\n",
    "        queue.append(node)\n",
    "        A[ini_node, node] = 0\n",
    "        A[node, ini_node] = 0\n",
    "        if dfs(A, node, end_node, queue):\n",
    "            return True\n",
    "        else:\n",
    "            queue.pop()\n",
    "    return False"
   ]
  },
  {
   "cell_type": "code",
   "execution_count": 23,
   "id": "c7955733",
   "metadata": {},
   "outputs": [
    {
     "data": {
      "text/plain": [
       "[[1, 3], [0, 5], [1, 7], [2, 5], [0, 4], [1, 2]]"
      ]
     },
     "execution_count": 23,
     "metadata": {},
     "output_type": "execute_result"
    }
   ],
   "source": [
    "queue = []\n",
    "dfs(adj, [0, 1], [1, 2], queue)\n",
    "[[int(x/8), x%8] for x in queue]"
   ]
  },
  {
   "cell_type": "code",
   "execution_count": 61,
   "id": "7bc9f539",
   "metadata": {},
   "outputs": [],
   "source": [
    "# create our new idstance metric\n",
    "dist = np.zeros([64,64])\n",
    "for i in range(64):\n",
    "    for j in range(64):\n",
    "        _,path = bfs(adj,[int(i/8),i%8],[int(j/8),j%8])\n",
    "        dist[i,j] = len(path)"
   ]
  },
  {
   "cell_type": "code",
   "execution_count": 25,
   "id": "56cec71c",
   "metadata": {},
   "outputs": [],
   "source": [
    "# create our new idstance metric\n",
    "dist = np.zeros([64,64])\n",
    "for i in range(64):\n",
    "    for j in range(64):\n",
    "        dist[i,j] = abs(int(i/8)-int(j/8)) + abs(i%8 - j%8)"
   ]
  },
  {
   "cell_type": "code",
   "execution_count": 79,
   "id": "a2ae727d",
   "metadata": {},
   "outputs": [],
   "source": [
    "def rrt(mat,ini_node,end_node):\n",
    "    ini_node = ini_node[0]*8+ini_node[1]\n",
    "    end_node = end_node[0]*8+end_node[1]\n",
    "    map = {ini_node:[]}\n",
    "    while True:\n",
    "        t_node = np.random.randint(64)\n",
    "\n",
    "        while t_node in list(map.keys()):\n",
    "            t_node = np.random.randint(64)\n",
    "        \n",
    "        pos = 0\n",
    "        val = 100\n",
    "        for point in map.keys():\n",
    "            dis = dist[t_node,point]\n",
    "            #dis = np.abs(x-t_x)+np.abs(y-t_y)\n",
    "            if val > dis:\n",
    "                val = dis\n",
    "                pos = point\n",
    "        childs = []      \n",
    "        for child_node, child_weight in enumerate(mat[pos,:]):\n",
    "            if child_weight > 0:\n",
    "                childs.append(child_node)\n",
    "        nv = 100\n",
    "        p = 0\n",
    "        for node in childs:\n",
    "            dis = dist[t_node,node]\n",
    "            #dis = np.abs(x-t_x)+np.abs(y-t_y)\n",
    "            if nv > dis:\n",
    "                nv = dis\n",
    "                p = node\n",
    "                \n",
    "                \n",
    "        if p not in map[pos]:\n",
    "            map[pos].append(p)\n",
    "        if p not in map.keys():\n",
    "            map[p] = []\n",
    "        if p == end_node:\n",
    "            break\n",
    "\n",
    "        print(map)\n",
    "        \n",
    "    return map\n",
    "        "
   ]
  },
  {
   "cell_type": "code",
   "execution_count": 85,
   "id": "c361283e",
   "metadata": {},
   "outputs": [
    {
     "name": "stdout",
     "output_type": "stream",
     "text": [
      "{1: [16], 16: []}\n"
     ]
    },
    {
     "data": {
      "text/plain": [
       "{1: [16], 16: [10], 10: []}"
      ]
     },
     "execution_count": 85,
     "metadata": {},
     "output_type": "execute_result"
    }
   ],
   "source": [
    "rrt(adj,[0,1],[1,2])"
   ]
  },
  {
   "cell_type": "code",
   "execution_count": 123,
   "id": "90182964",
   "metadata": {},
   "outputs": [],
   "source": [
    "temp2 = [[],[]]\n",
    "temp2[0].append(1)\n"
   ]
  },
  {
   "cell_type": "code",
   "execution_count": 111,
   "id": "d82c7d98",
   "metadata": {},
   "outputs": [
    {
     "data": {
      "text/plain": [
       "[[1], []]"
      ]
     },
     "execution_count": 111,
     "metadata": {},
     "output_type": "execute_result"
    }
   ],
   "source": [
    "temp2"
   ]
  },
  {
   "cell_type": "code",
   "execution_count": 115,
   "id": "51182ccd",
   "metadata": {},
   "outputs": [
    {
     "ename": "IndexError",
     "evalue": "list index out of range",
     "output_type": "error",
     "traceback": [
      "\u001b[1;31m---------------------------------------------------------------------------\u001b[0m",
      "\u001b[1;31mIndexError\u001b[0m                                Traceback (most recent call last)",
      "\u001b[1;32m<ipython-input-115-8e3bc33d33d8>\u001b[0m in \u001b[0;36m<module>\u001b[1;34m\u001b[0m\n\u001b[1;32m----> 1\u001b[1;33m \u001b[0mtemp2\u001b[0m\u001b[1;33m[\u001b[0m\u001b[1;36m1\u001b[0m\u001b[1;33m]\u001b[0m\u001b[1;33m[\u001b[0m\u001b[1;36m0\u001b[0m\u001b[1;33m]\u001b[0m\u001b[1;33m\u001b[0m\u001b[1;33m\u001b[0m\u001b[0m\n\u001b[0m",
      "\u001b[1;31mIndexError\u001b[0m: list index out of range"
     ]
    }
   ],
   "source": [
    "temp2[1][0]"
   ]
  },
  {
   "cell_type": "code",
   "execution_count": null,
   "id": "bf02ae45",
   "metadata": {},
   "outputs": [],
   "source": []
  }
 ],
 "metadata": {
  "kernelspec": {
   "display_name": "Python 3",
   "language": "python",
   "name": "python3"
  },
  "language_info": {
   "codemirror_mode": {
    "name": "ipython",
    "version": 3
   },
   "file_extension": ".py",
   "mimetype": "text/x-python",
   "name": "python",
   "nbconvert_exporter": "python",
   "pygments_lexer": "ipython3",
   "version": "3.8.8"
  }
 },
 "nbformat": 4,
 "nbformat_minor": 5
}
