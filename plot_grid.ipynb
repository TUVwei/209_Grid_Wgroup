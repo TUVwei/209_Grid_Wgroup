{
 "cells": [
  {
   "cell_type": "code",
   "execution_count": 95,
   "metadata": {},
   "outputs": [],
   "source": [
    "import numpy as np\n",
    "import matplotlib.pyplot as plt\n",
    "from matplotlib.patches import Rectangle, Circle"
   ]
  },
  {
   "cell_type": "code",
   "execution_count": 75,
   "metadata": {},
   "outputs": [],
   "source": [
    "My_map = [[0]*5 for _ in range(5)]\n",
    "My_map[2][0] = 'Rs'\n",
    "My_map[2][2] = 'Rd'\n",
    "My_map[1][1] = -1\n",
    "My_map[2][1] = -1\n",
    "My_map[1][3] = -1\n",
    "My_map[2][3] = -1\n",
    "My_map[4][0] = 'Rw'\n",
    "My_map[4][1] = 'Rw'\n",
    "My_map[4][2] = 'Rw'\n",
    "My_map[4][3] = 'Rw'\n",
    "My_map[4][4] = 'Rw'"
   ]
  },
  {
   "cell_type": "code",
   "execution_count": 156,
   "metadata": {},
   "outputs": [],
   "source": [
    "def plot_map(my_map, positions=[]):\n",
    "    # draw the grid frame\n",
    "    n = len(my_map)\n",
    "    m = len(my_map[0])\n",
    "    fig,ax = plt.subplots(figsize=(6, 6))\n",
    "    \n",
    "    # draw the whole grid\n",
    "    for x,row in enumerate(my_map):\n",
    "        for y,element in enumerate(row):\n",
    "            if type(element)==type(0) and element == -1:\n",
    "                ax.add_patch(Rectangle((x,y),1,1,color='lightgray'))\n",
    "                ax.text(x+0.4,y+0.4,str('X'),c='black',size='xx-large')\n",
    "            elif type(element)==type('s'):\n",
    "                if element == 'Rw':\n",
    "                    ax.add_patch(Rectangle((x,y),1,1,color='red'))\n",
    "                    ax.text(x+0.35,y+0.4,element,c='black',size='xx-large')\n",
    "                else:\n",
    "                    ax.add_patch(Rectangle((x,y),1,1,color='lime'))\n",
    "                    ax.text(x+0.35,y+0.4,element,c='black',size='xx-large')                   \n",
    "    \n",
    "    # draw arrows of start\n",
    "    if len(positions) > 0:\n",
    "        ax.add_patch(Circle((positions[0][0]+0.5, positions[0][1]+0.5), 0.05, color='blue'))\n",
    "        ax.text(positions[0][0]+0.27, positions[0][1]+0.25,'start',c='black',size='large') \n",
    "    \n",
    "    # draw all the movements\n",
    "    max_num = len(positions)\n",
    "    for num, pos in enumerate(positions[1:]):\n",
    "        ax.add_patch(Circle((pos[0]+0.5, pos[1]+0.5), 0.05+0.15*(num+1)/max_num, color='blue'))\n",
    "        \n",
    "    \n",
    "    plt.xticks(np.arange(n+1))\n",
    "    plt.yticks(np.arange(n+1))\n",
    "\n",
    "    ax.set_xticklabels([str(x) for x in np.arange(n)])\n",
    "    ax.set_yticklabels([str(y) for y in np.arange(m)])\n",
    "    \n",
    "    plt.grid()\n",
    "    plt.show()"
   ]
  },
  {
   "cell_type": "code",
   "execution_count": 157,
   "metadata": {},
   "outputs": [
    {
     "data": {
      "image/png": "[encoded data removed]",
      "text/plain": [
       "<Figure size 432x432 with 1 Axes>"
      ]
     },
     "metadata": {
      "needs_background": "light"
     },
     "output_type": "display_data"
    }
   ],
   "source": [
    "plot_map(My_map, [[0,0],[0,1],[0,2],[0,3],[0,4],[1,4]])"
   ]
  },
  {
   "cell_type": "code",
   "execution_count": 114,
   "metadata": {},
   "outputs": [
    {
     "data": {
      "text/plain": [
       "'\\nfor x in range(10):\\n    for y in range(10):\\n        if action[9-y,x] == 0:\\n            dx, dy = [-0.3, 0]\\n        elif action[9-y,x] == 1:\\n            dx, dy = [0, 0.3]    \\n        elif action[9-y,x] == 2:\\n            dx, dy = [0.3, 0]  \\n        else:\\n            dx, dy = [0, -0.3] \\n        plt.arrow(x+0.5, y+0.5, dy, -dx, width=0.05)\\n'"
      ]
     },
     "execution_count": 114,
     "metadata": {},
     "output_type": "execute_result"
    }
   ],
   "source": [
    "'''\n",
    "for x in range(10):\n",
    "    for y in range(10):\n",
    "        if action[9-y,x] == 0:\n",
    "            dx, dy = [-0.3, 0]\n",
    "        elif action[9-y,x] == 1:\n",
    "            dx, dy = [0, 0.3]    \n",
    "        elif action[9-y,x] == 2:\n",
    "            dx, dy = [0.3, 0]  \n",
    "        else:\n",
    "            dx, dy = [0, -0.3] \n",
    "        plt.arrow(x+0.5, y+0.5, dy, -dx, width=0.05)\n",
    "'''"
   ]
  },
  {
   "cell_type": "code",
   "execution_count": null,
   "metadata": {},
   "outputs": [],
   "source": []
  }
 ],
 "metadata": {
  "kernelspec": {
   "display_name": "Python 3",
   "language": "python",
   "name": "python3"
  },
  "language_info": {
   "codemirror_mode": {
    "name": "ipython",
    "version": 3
   },
   "file_extension": ".py",
   "mimetype": "text/x-python",
   "name": "python",
   "nbconvert_exporter": "python",
   "pygments_lexer": "ipython3",
   "version": "3.7.6"
  }
 },
 "nbformat": 4,
 "nbformat_minor": 4
}
