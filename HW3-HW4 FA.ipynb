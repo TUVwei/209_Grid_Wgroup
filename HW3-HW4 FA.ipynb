{
 "cells": [
  {
   "cell_type": "code",
   "execution_count": 15,
   "metadata": {},
   "outputs": [],
   "source": [
    "import copy\n",
    "import numpy as np\n",
    "import matplotlib.pyplot as plt\n",
    "from matplotlib.patches import Rectangle, Circle"
   ]
  },
  {
   "cell_type": "code",
   "execution_count": 79,
   "metadata": {},
   "outputs": [],
   "source": [
    "n = 3\n",
    "s = [(0,0),(0,0)]\n",
    "\n",
    "def getMap(maps={}, needs='a', maxA=3, cash=()):\n",
    "    if len(cash) == 0:\n",
    "        n = maxA - 1\n",
    "        s = [(0,0) for _ in range(maxA)]\n",
    "    else:\n",
    "        n = cash[0]\n",
    "        s = cash[1]\n",
    "        \n",
    "    if n == 0:\n",
    "        for i in range(5):\n",
    "            for j in range(5):\n",
    "                s[n] = (i,j)\n",
    "                if needs == 'a':\n",
    "                    maps[str(s)] = [0]*maxA\n",
    "                else:\n",
    "                     maps[str(s)] = 0\n",
    "    else:\n",
    "        for i in range(5):\n",
    "            for j in range(5):\n",
    "                s[n] = (i,j)\n",
    "                getMap(maps, needs, maxA, (n-1,s.copy()))\n",
    "    return maps"
   ]
  },
  {
   "cell_type": "code",
   "execution_count": 85,
   "metadata": {
    "scrolled": true
   },
   "outputs": [],
   "source": [
    "actions = getMap(maps={}, needs='a', maxA=3)\n",
    "values = getMap(maps={}, needs='v', maxA=3)"
   ]
  },
  {
   "cell_type": "code",
   "execution_count": 86,
   "metadata": {},
   "outputs": [
    {
     "data": {
      "text/plain": [
       "15625"
      ]
     },
     "execution_count": 86,
     "metadata": {},
     "output_type": "execute_result"
    }
   ],
   "source": [
    "len(actions)"
   ]
  },
  {
   "cell_type": "code",
   "execution_count": 82,
   "metadata": {},
   "outputs": [
    {
     "data": {
      "text/plain": [
       "'[(0, 0), (0, 0)]'"
      ]
     },
     "execution_count": 82,
     "metadata": {},
     "output_type": "execute_result"
    }
   ],
   "source": [
    "list(values.keys())[0]"
   ]
  },
  {
   "cell_type": "code",
   "execution_count": 83,
   "metadata": {},
   "outputs": [
    {
     "data": {
      "text/plain": [
       "[0, 0]"
      ]
     },
     "execution_count": 83,
     "metadata": {},
     "output_type": "execute_result"
    }
   ],
   "source": [
    "actions[str([(3, 4), (1, 2)])]"
   ]
  },
  {
   "cell_type": "code",
   "execution_count": null,
   "metadata": {},
   "outputs": [],
   "source": []
  }
 ],
 "metadata": {
  "kernelspec": {
   "display_name": "Python 3",
   "language": "python",
   "name": "python3"
  },
  "language_info": {
   "codemirror_mode": {
    "name": "ipython",
    "version": 3
   },
   "file_extension": ".py",
   "mimetype": "text/x-python",
   "name": "python",
   "nbconvert_exporter": "python",
   "pygments_lexer": "ipython3",
   "version": "3.7.6"
  }
 },
 "nbformat": 4,
 "nbformat_minor": 4
}
