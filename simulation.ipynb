{
 "cells": [
  {
   "cell_type": "code",
   "execution_count": 5,
   "metadata": {},
   "outputs": [],
   "source": [
    "import numpy as np\n",
    "import matplotlib.pyplot as plt\n",
    "from matplotlib.patches import Rectangle, Circle"
   ]
  },
  {
   "cell_type": "code",
   "execution_count": 6,
   "metadata": {},
   "outputs": [],
   "source": [
    "def plot_map(my_map, positions=[], observations=[]):\n",
    "    # draw the grid frame\n",
    "    n = len(my_map)\n",
    "    m = len(my_map[0])\n",
    "    fig,ax = plt.subplots(figsize=(6, 6))\n",
    "    \n",
    "    # draw the whole grid\n",
    "    for x,row in enumerate(my_map):\n",
    "        for y,element in enumerate(row):\n",
    "            if type(element)==type(0) and element == -1:\n",
    "                ax.add_patch(Rectangle((x,y),1,1,color='lightgray'))\n",
    "                ax.text(x+0.4,y+0.4,str('X'),c='black',size='xx-large')\n",
    "            elif type(element)==type('str'):\n",
    "                if element == 'Rw':\n",
    "                    ax.add_patch(Rectangle((x,y),1,1,color='red'))\n",
    "                    ax.text(x+0.35,y+0.4,element,c='black',size='xx-large')\n",
    "                else:\n",
    "                    ax.add_patch(Rectangle((x,y),1,1,color='lime'))\n",
    "                    ax.text(x+0.35,y+0.4,element,c='black',size='xx-large')                   \n",
    "    \n",
    "    # draw arrows of start\n",
    "    if len(positions) > 0:\n",
    "        ax.add_patch(Circle((positions[0][0]+0.5, positions[0][1]+0.5), 0.05, color='blue'))\n",
    "        ax.text(positions[0][0]+0.05, positions[0][1]+0.2,'0',c='black',size='small') \n",
    "        if len(observations) > 0:\n",
    "            ax.text(positions[0][0]+0.05, positions[0][1]+0.7, str(observations[0]),c='red',size='small') \n",
    "    \n",
    "    # draw all the movements\n",
    "    max_num = len(positions)\n",
    "    for num, pos in enumerate(positions[1:]):\n",
    "        ax.add_patch(Circle((pos[0]+0.5, pos[1]+0.5), 0.05+0.15*(num+1)/max_num, color='blue'))\n",
    "        ax.text(pos[0]+0.05+0.9*(num+1)/max_num, pos[1]+0.2, str(num+1), c='black', size='small') \n",
    "        if len(observations) == max_num:\n",
    "            ax.text(pos[0]+0.05+0.9*(num+1)/max_num, pos[1]+0.7, str(observations[num+1]),c='red',size='small') \n",
    "    \n",
    "    # some configs\n",
    "    plt.xticks(np.arange(n+1))\n",
    "    plt.yticks(np.arange(m+1))\n",
    "\n",
    "    ax.set_xticklabels([str(x) for x in np.arange(n+1)])\n",
    "    ax.set_yticklabels([str(y) for y in np.arange(m+1)])\n",
    "    \n",
    "    plt.grid()\n",
    "    plt.show()"
   ]
  },
  {
   "cell_type": "code",
   "execution_count": 7,
   "metadata": {},
   "outputs": [],
   "source": [
    "moves_map = {0:[0,0], 1:[-1,0], 2:[0,1], 3:[1,0], 4:[0,-1]}\n",
    "def move_one_step(my_map, pos, move, pe, n, m):\n",
    "    # if already stop\n",
    "    if type(my_map[pos[0]][pos[1]]) == type('str'):\n",
    "        return pos\n",
    "    \n",
    "    # else choose the random action\n",
    "    actions = [(1-pe)/4] * 5\n",
    "    actions[move] = pe\n",
    "    action = np.argmax(np.random.multinomial(1, actions))\n",
    "    movement = moves_map[action]\n",
    "    # next pois\n",
    "    next_pos =[pos[0]+movement[0], pos[1]+movement[1]]\n",
    "    \n",
    "    # if not valid: out the map\n",
    "    if next_pos[0] < 0 or next_pos[0] >= n:\n",
    "        return pos\n",
    "    if next_pos[1] < 0 or next_pos[1] >= m:\n",
    "        return pos\n",
    "    \n",
    "    # else if target is obstacle\n",
    "    if type(my_map[next_pos[0]][next_pos[1]]) == type(0) and my_map[next_pos[0]][next_pos[1]] == -1:\n",
    "        return pos\n",
    "    \n",
    "    return next_pos\n",
    "\n",
    "def move(my_map, start, moves, pe):\n",
    "    n = len(my_map)\n",
    "    m = len(my_map[0])\n",
    "    \n",
    "    # find Rs, Rd\n",
    "    for i in range(n):\n",
    "        for j in range(m):\n",
    "            if my_map[i][j] == 'Rs':\n",
    "                rs_pos = [i,j]\n",
    "            if my_map[i][j] == 'Rd':\n",
    "                rd_pos = [i,j]\n",
    "    \n",
    "    # start and obs\n",
    "    positions = [start]\n",
    "    pos = start\n",
    "    d_s = ((rs_pos[0]-pos[0])**2+(rs_pos[1]-pos[1])**2)**0.5\n",
    "    d_d = ((rd_pos[0]-pos[0])**2+(rd_pos[1]-pos[1])**2)**0.5\n",
    "    h = 2/(d_s**(-1)+d_d**(-1))\n",
    "    p = 1-(np.ceil(h) - h)\n",
    "    if np.random.rand() <= p:\n",
    "        o = np.ceil(h)\n",
    "    else:\n",
    "        o = np.floor(h)\n",
    "    observations = [int(o)]\n",
    "    \n",
    "    # move\n",
    "    for move in moves:\n",
    "        pos = move_one_step(my_map, pos, move, pe, n, m)\n",
    "        positions.append(pos)\n",
    "        \n",
    "        d_s = ((rs_pos[0]-pos[0])**2+(rs_pos[1]-pos[1])**2)**0.5\n",
    "        d_d = ((rd_pos[0]-pos[0])**2+(rd_pos[1]-pos[1])**2)**0.5\n",
    "        h = 2/((d_s+0.001)**(-1)+(d_d+0.0001)**(-1))\n",
    "        p = 1-(np.ceil(h) - h)\n",
    "        if np.random.rand() <= p:\n",
    "            o = np.ceil(h)\n",
    "        else:\n",
    "            o = np.floor(h)\n",
    "        observations.append(int(o))\n",
    "    \n",
    "    return positions, observations"
   ]
  },
  {
   "cell_type": "code",
   "execution_count": 8,
   "metadata": {},
   "outputs": [],
   "source": [
    "my_map = [[0]*5 for _ in range(5)]\n",
    "my_map[2][0] = 'Rs'\n",
    "my_map[2][2] = 'Rd'\n",
    "my_map[1][1] = -1\n",
    "my_map[2][1] = -1\n",
    "my_map[1][3] = -1\n",
    "my_map[2][3] = -1\n",
    "my_map[4][0] = 'Rw'\n",
    "my_map[4][1] = 'Rw'\n",
    "my_map[4][2] = 'Rw'\n",
    "my_map[4][3] = 'Rw'\n",
    "my_map[4][4] = 'Rw'"
   ]
  },
  {
   "cell_type": "code",
   "execution_count": 9,
   "metadata": {},
   "outputs": [
    {
     "data": {
      "image/png": "[encoded data removed]",
      "text/plain": [
       "<Figure size 432x432 with 1 Axes>"
      ]
     },
     "metadata": {
      "needs_background": "light"
     },
     "output_type": "display_data"
    }
   ],
   "source": [
    "plot_map(my_map)"
   ]
  },
  {
   "cell_type": "code",
   "execution_count": 15,
   "metadata": {},
   "outputs": [
    {
     "data": {
      "image/png": "[encoded data removed]",
      "text/plain": [
       "<Figure size 432x432 with 1 Axes>"
      ]
     },
     "metadata": {
      "needs_background": "light"
     },
     "output_type": "display_data"
    }
   ],
   "source": [
    "pe = 0.9\n",
    "start = [0,0]\n",
    "moves = [2,2,2,2,3,3,3,4,4,1]\n",
    "p, o = move(my_map, start, moves, pe)\n",
    "plot_map(my_map, p, o)"
   ]
  },
  {
   "cell_type": "code",
   "execution_count": null,
   "metadata": {},
   "outputs": [],
   "source": []
  },
  {
   "cell_type": "code",
   "execution_count": null,
   "metadata": {},
   "outputs": [],
   "source": []
  }
 ],
 "metadata": {
  "kernelspec": {
   "display_name": "Python 3",
   "language": "python",
   "name": "python3"
  },
  "language_info": {
   "codemirror_mode": {
    "name": "ipython",
    "version": 3
   },
   "file_extension": ".py",
   "mimetype": "text/x-python",
   "name": "python",
   "nbconvert_exporter": "python",
   "pygments_lexer": "ipython3",
   "version": "3.7.6"
  }
 },
 "nbformat": 4,
 "nbformat_minor": 4
}
